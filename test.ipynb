{
 "cells": [
  {
   "cell_type": "code",
   "execution_count": 1,
   "metadata": {},
   "outputs": [],
   "source": [
    "import torch"
   ]
  },
  {
   "cell_type": "code",
   "execution_count": 2,
   "metadata": {},
   "outputs": [],
   "source": [
    "def project_linf(x: torch.Tensor, x_adv: torch.Tensor, eps: float,\n",
    "                 boundaries) -> torch.Tensor:\n",
    "    clip_min, clip_max = boundaries\n",
    "    d_x = torch.clamp(x_adv - x.detach(), -eps, eps)\n",
    "    x_adv = torch.clamp(x + d_x, clip_min, clip_max)\n",
    "    return x_adv"
   ]
  },
  {
   "cell_type": "code",
   "execution_count": 6,
   "metadata": {},
   "outputs": [
    {
     "data": {
      "text/plain": [
       "tensor([0.4000])"
      ]
     },
     "execution_count": 6,
     "metadata": {},
     "output_type": "execute_result"
    }
   ],
   "source": [
    "eps = 0.1\n",
    "grad = torch.Tensor([-1.0])\n",
    "x = torch.Tensor([0.5])\n",
    "lr = 1.\n",
    "x_adv = x + lr * grad\n",
    "project_linf(x, x_adv, eps, (0.0, 1.0))"
   ]
  },
  {
   "cell_type": "code",
   "execution_count": 7,
   "metadata": {},
   "outputs": [
    {
     "data": {
      "text/plain": [
       "tensor([0.4000])"
      ]
     },
     "execution_count": 7,
     "metadata": {},
     "output_type": "execute_result"
    }
   ],
   "source": [
    "lr = eps\n",
    "x_adv = x + lr * grad\n",
    "project_linf(x, x_adv, eps, (0.0, 1.0))"
   ]
  },
  {
   "cell_type": "code",
   "execution_count": null,
   "metadata": {},
   "outputs": [],
   "source": []
  }
 ],
 "metadata": {
  "interpreter": {
   "hash": "ad10c4713355efe6ebe6e9a25ff5737fac9f32cd56bc6f76418bd04ce6770c70"
  },
  "kernelspec": {
   "display_name": "Python 3.8.10 64-bit ('.venv': venv)",
   "language": "python",
   "name": "python3"
  },
  "language_info": {
   "codemirror_mode": {
    "name": "ipython",
    "version": 3
   },
   "file_extension": ".py",
   "mimetype": "text/x-python",
   "name": "python",
   "nbconvert_exporter": "python",
   "pygments_lexer": "ipython3",
   "version": "3.8.10"
  },
  "orig_nbformat": 4
 },
 "nbformat": 4,
 "nbformat_minor": 2
}
