{
 "cells": [
  {
   "cell_type": "code",
   "execution_count": 1,
   "metadata": {},
   "outputs": [],
   "source": [
    "%load_ext autoreload\n",
    "%autoreload 2"
   ]
  },
  {
   "cell_type": "code",
   "execution_count": 2,
   "metadata": {},
   "outputs": [],
   "source": [
    "import os\n",
    "import sys\n",
    "module_path = os.path.abspath(os.path.join('..'))\n",
    "if module_path not in sys.path:\n",
    "    sys.path.append(module_path)"
   ]
  },
  {
   "cell_type": "code",
   "execution_count": 3,
   "metadata": {},
   "outputs": [],
   "source": [
    "import timm\n",
    "import matplotlib.pyplot as plt\n",
    "import torch\n",
    "import torchvision.transforms.functional as F\n",
    "from torch import nn\n",
    "\n",
    "from src.notebooks_utils import get_data, get_synth_examples, show_grid\n",
    "from src.adv_resnet import resnet50, EightBN\n",
    "from src.imagenet_labels import IMAGENET_LABELS\n",
    "from src.utils import NormalizedModel"
   ]
  },
  {
   "cell_type": "code",
   "execution_count": 4,
   "metadata": {},
   "outputs": [],
   "source": [
    "plt.rcParams[\"savefig.bbox\"] = 'tight'\n",
    "device = torch.device(\"cuda:0\") if torch.cuda.is_available() else torch.device(\"cpu\")"
   ]
  },
  {
   "cell_type": "code",
   "execution_count": null,
   "metadata": {},
   "outputs": [],
   "source": [
    "# Set up model\n",
    "CHECKPOINTS_DIR = \"../checkpoints\"\n",
    "\n",
    "xcit_checkpoint_file = \"xcit-imagenet-4.pth.tar\"\n",
    "xcit_model_name = \"xcit_small_12_p16_224\"\n",
    "xcit = timm.create_model(xcit_model_name, checkpoint_path=os.path.join(CHECKPOINTS_DIR, xcit_checkpoint_file))\n",
    "xcit = NormalizedModel(xcit)\n",
    "xcit = xcit.to(device)\n",
    "\n",
    "resnet_checkpoint_file = \"advres50_gelu.pth\"\n",
    "resnet = resnet50(norm_layer=EightBN)\n",
    "resnet.load_state_dict(torch.load(os.path.join(CHECKPOINTS_DIR, resnet_checkpoint_file))[\"model\"])\n",
    "resnet = NormalizedModel(resnet)\n",
    "resnet = resnet.to(device)\n",
    "\n",
    "deit_checkpoint_file = \"advdeit_small.pth\"\n",
    "deit_model_name = \"deit_small_patch16_224\"\n",
    "deit = timm.create_model(deit_model_name, checkpoint_path=os.path.join(CHECKPOINTS_DIR, deit_checkpoint_file))\n",
    "deit = NormalizedModel(deit)\n",
    "deit = deit.to(device)"
   ]
  },
  {
   "cell_type": "code",
   "execution_count": null,
   "metadata": {},
   "outputs": [],
   "source": [
    "n_examples = 16"
   ]
  },
  {
   "cell_type": "code",
   "execution_count": null,
   "metadata": {},
   "outputs": [],
   "source": [
    "xcit_x, xcit_x_adv, xcit_y = get_synth_examples(xcit, device, n_examples)"
   ]
  },
  {
   "cell_type": "code",
   "execution_count": null,
   "metadata": {},
   "outputs": [],
   "source": [
    "resnet_x, resnet_x_adv, resnet_y = get_synth_examples(resnet, device, n_examples)"
   ]
  },
  {
   "cell_type": "code",
   "execution_count": null,
   "metadata": {},
   "outputs": [],
   "source": [
    "deit_x, deit_x_adv, deit_y = get_synth_examples(deit, device, n_examples)"
   ]
  },
  {
   "cell_type": "code",
   "execution_count": null,
   "metadata": {},
   "outputs": [],
   "source": [
    "show_grid(xcit_x)"
   ]
  },
  {
   "cell_type": "code",
   "execution_count": null,
   "metadata": {},
   "outputs": [],
   "source": [
    "print(\", \".join(IMAGENET_LABELS[l] for l in xcit_y))"
   ]
  },
  {
   "cell_type": "code",
   "execution_count": null,
   "metadata": {},
   "outputs": [],
   "source": [
    "show_grid(xcit_x_adv)"
   ]
  },
  {
   "cell_type": "code",
   "execution_count": null,
   "metadata": {},
   "outputs": [],
   "source": [
    "show_grid(resnet_x_adv)"
   ]
  },
  {
   "cell_type": "code",
   "execution_count": null,
   "metadata": {},
   "outputs": [],
   "source": [
    "show_grid(deit_x_adv)"
   ]
  }
 ],
 "metadata": {
  "interpreter": {
   "hash": "ad10c4713355efe6ebe6e9a25ff5737fac9f32cd56bc6f76418bd04ce6770c70"
  },
  "kernelspec": {
   "display_name": "Python 3 (ipykernel)",
   "language": "python",
   "name": "python3"
  },
  "language_info": {
   "codemirror_mode": {
    "name": "ipython",
    "version": 3
   },
   "file_extension": ".py",
   "mimetype": "text/x-python",
   "name": "python",
   "nbconvert_exporter": "python",
   "pygments_lexer": "ipython3",
   "version": "3.8.10"
  }
 },
 "nbformat": 4,
 "nbformat_minor": 4
}
