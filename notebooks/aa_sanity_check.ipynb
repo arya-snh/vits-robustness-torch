{
 "cells": [
  {
   "cell_type": "code",
   "execution_count": 1,
   "id": "9b8c5b5d-8b4d-4248-8c3f-4f5db48d1fbb",
   "metadata": {},
   "outputs": [],
   "source": [
    "from pathlib import Path\n",
    "\n",
    "import matplotlib as mpl\n",
    "import matplotlib.pyplot as plt\n",
    "import pandas as pd\n",
    "import seaborn as sns"
   ]
  },
  {
   "cell_type": "code",
   "execution_count": 2,
   "id": "d4a0fc76-651d-4df4-b066-fd52a4bed8e3",
   "metadata": {},
   "outputs": [],
   "source": [
    "OUTPUT_IMAGES_LOCATION = Path(\"output_images\") / \"additional_plots\"\n",
    "if not OUTPUT_IMAGES_LOCATION.exists():\n",
    "    OUTPUT_IMAGES_LOCATION.mkdir(parents=True)"
   ]
  },
  {
   "cell_type": "code",
   "execution_count": 3,
   "id": "dff88c8e-acd0-4548-a02d-4b3101dd46fd",
   "metadata": {},
   "outputs": [],
   "source": [
    "mpl.rcParams['text.usetex'] = True\n",
    "\n",
    "sns.set_theme(style=\"whitegrid\")\n",
    "sns.set(rc={\"figure.figsize\": (3.14, 3.14 / 1.6),\n",
    "            \"legend.fontsize\": 8,\n",
    "            \"legend.title_fontsize\": 10},\n",
    "        style=\"whitegrid\",\n",
    "        font_scale=1)"
   ]
  },
  {
   "cell_type": "code",
   "execution_count": 4,
   "id": "a51b3d9e-bea2-4b34-9d48-d8b274e6631d",
   "metadata": {},
   "outputs": [
    {
     "data": {
      "text/html": [
       "<div>\n",
       "<style scoped>\n",
       "    .dataframe tbody tr th:only-of-type {\n",
       "        vertical-align: middle;\n",
       "    }\n",
       "\n",
       "    .dataframe tbody tr th {\n",
       "        vertical-align: top;\n",
       "    }\n",
       "\n",
       "    .dataframe thead th {\n",
       "        text-align: right;\n",
       "    }\n",
       "</style>\n",
       "<table border=\"1\" class=\"dataframe\">\n",
       "  <thead>\n",
       "    <tr style=\"text-align: right;\">\n",
       "      <th></th>\n",
       "      <th>eps</th>\n",
       "      <th>robust_accuracy</th>\n",
       "    </tr>\n",
       "  </thead>\n",
       "  <tbody>\n",
       "    <tr>\n",
       "      <th>0</th>\n",
       "      <td>0</td>\n",
       "      <td>72.34</td>\n",
       "    </tr>\n",
       "    <tr>\n",
       "      <th>1</th>\n",
       "      <td>2</td>\n",
       "      <td>58.80</td>\n",
       "    </tr>\n",
       "    <tr>\n",
       "      <th>2</th>\n",
       "      <td>4</td>\n",
       "      <td>41.78</td>\n",
       "    </tr>\n",
       "    <tr>\n",
       "      <th>3</th>\n",
       "      <td>6</td>\n",
       "      <td>25.18</td>\n",
       "    </tr>\n",
       "    <tr>\n",
       "      <th>4</th>\n",
       "      <td>8</td>\n",
       "      <td>12.98</td>\n",
       "    </tr>\n",
       "    <tr>\n",
       "      <th>5</th>\n",
       "      <td>10</td>\n",
       "      <td>5.50</td>\n",
       "    </tr>\n",
       "    <tr>\n",
       "      <th>6</th>\n",
       "      <td>12</td>\n",
       "      <td>2.04</td>\n",
       "    </tr>\n",
       "    <tr>\n",
       "      <th>7</th>\n",
       "      <td>14</td>\n",
       "      <td>0.60</td>\n",
       "    </tr>\n",
       "    <tr>\n",
       "      <th>8</th>\n",
       "      <td>16</td>\n",
       "      <td>0.24</td>\n",
       "    </tr>\n",
       "  </tbody>\n",
       "</table>\n",
       "</div>"
      ],
      "text/plain": [
       "   eps  robust_accuracy\n",
       "0    0            72.34\n",
       "1    2            58.80\n",
       "2    4            41.78\n",
       "3    6            25.18\n",
       "4    8            12.98\n",
       "5   10             5.50\n",
       "6   12             2.04\n",
       "7   14             0.60\n",
       "8   16             0.24"
      ]
     },
     "execution_count": 4,
     "metadata": {},
     "output_type": "execute_result"
    }
   ],
   "source": [
    "data = {\n",
    "    \"eps\": [0, 2, 4, 6, 8, 10, 12, 14, 16],\n",
    "    \"robust_accuracy\": [72.34, 58.80, 41.78, 25.18, 12.98, 5.50, 2.04, 0.60, 0.24]\n",
    "}\n",
    "\n",
    "df = pd.DataFrame(data)\n",
    "df"
   ]
  },
  {
   "cell_type": "code",
   "execution_count": 5,
   "id": "eab0bff9-c407-4737-9f6e-8124285cbd24",
   "metadata": {},
   "outputs": [
    {
     "data": {
      "image/png": "[encoded data removed]",
      "text/plain": [
       "<Figure size 314x196.25 with 1 Axes>"
      ]
     },
     "metadata": {},
     "output_type": "display_data"
    }
   ],
   "source": [
    "sns.lineplot(data=df, x=\"eps\", y=\"robust_accuracy\", marker=\"o\")\n",
    "plt.xlabel(\"$\\\\varepsilon$\")\n",
    "plt.ylabel(\"Robust Accuracy (\\%)\")\n",
    "plt.xticks([0, 2, 4, 6, 8, 10, 12, 14, 16]);\n",
    "plt.savefig(OUTPUT_IMAGES_LOCATION / \"aa_sanity_check.pdf\", bbox_inches=\"tight\")"
   ]
  },
  {
   "cell_type": "code",
   "execution_count": 6,
   "id": "00f70b45-994d-43a5-9270-01d789bd7fff",
   "metadata": {},
   "outputs": [],
   "source": [
    "sns.set(rc={\"figure.figsize\": (3.14, 3.14 / 1.6),\n",
    "            \"axes.labelsize\": 14,\n",
    "            \"xtick.labelsize\": 14,\n",
    "            \"ytick.labelsize\": 14,\n",
    "            \"legend.fontsize\": 10,\n",
    "            \"legend.title_fontsize\": 10},\n",
    "        style=\"whitegrid\",\n",
    "        font_scale=1)"
   ]
  },
  {
   "cell_type": "code",
   "execution_count": 7,
   "id": "aae75674-b92e-414c-b171-eddf7b41eec8",
   "metadata": {},
   "outputs": [
    {
     "data": {
      "text/html": [
       "<div>\n",
       "<style scoped>\n",
       "    .dataframe tbody tr th:only-of-type {\n",
       "        vertical-align: middle;\n",
       "    }\n",
       "\n",
       "    .dataframe tbody tr th {\n",
       "        vertical-align: top;\n",
       "    }\n",
       "\n",
       "    .dataframe thead th {\n",
       "        text-align: right;\n",
       "    }\n",
       "</style>\n",
       "<table border=\"1\" class=\"dataframe\">\n",
       "  <thead>\n",
       "    <tr style=\"text-align: right;\">\n",
       "      <th></th>\n",
       "      <th>Epoch</th>\n",
       "      <th>Model</th>\n",
       "      <th>Val robust accuracy (\\%)</th>\n",
       "      <th>phase</th>\n",
       "    </tr>\n",
       "  </thead>\n",
       "  <tbody>\n",
       "    <tr>\n",
       "      <th>0</th>\n",
       "      <td>0</td>\n",
       "      <td>XCiT-S12</td>\n",
       "      <td>0.000000</td>\n",
       "      <td>Val</td>\n",
       "    </tr>\n",
       "    <tr>\n",
       "      <th>1</th>\n",
       "      <td>1</td>\n",
       "      <td>XCiT-S12</td>\n",
       "      <td>2.503597</td>\n",
       "      <td>Val</td>\n",
       "    </tr>\n",
       "    <tr>\n",
       "      <th>2</th>\n",
       "      <td>2</td>\n",
       "      <td>XCiT-S12</td>\n",
       "      <td>7.083200</td>\n",
       "      <td>Val</td>\n",
       "    </tr>\n",
       "    <tr>\n",
       "      <th>3</th>\n",
       "      <td>3</td>\n",
       "      <td>XCiT-S12</td>\n",
       "      <td>12.482018</td>\n",
       "      <td>Val</td>\n",
       "    </tr>\n",
       "    <tr>\n",
       "      <th>4</th>\n",
       "      <td>4</td>\n",
       "      <td>XCiT-S12</td>\n",
       "      <td>16.959719</td>\n",
       "      <td>Val</td>\n",
       "    </tr>\n",
       "  </tbody>\n",
       "</table>\n",
       "</div>"
      ],
      "text/plain": [
       "   Epoch     Model  Val robust accuracy (\\%) phase\n",
       "0      0  XCiT-S12                  0.000000   Val\n",
       "1      1  XCiT-S12                  2.503597   Val\n",
       "2      2  XCiT-S12                  7.083200   Val\n",
       "3      3  XCiT-S12                 12.482018   Val\n",
       "4      4  XCiT-S12                 16.959719   Val"
      ]
     },
     "execution_count": 7,
     "metadata": {},
     "output_type": "execute_result"
    }
   ],
   "source": [
    "xcit_epochs_df = pd.read_csv(\"data/robust_acc_xcits.csv\")\n",
    "xcit_epochs_df = xcit_epochs_df[[\"epoch\", \"xcit_small_12_p16_224\", \"xcit_medium_12_p16_224\", \"xcit_large_12_p16_224\"]]\n",
    "xcit_epochs_df = xcit_epochs_df \\\n",
    "    .rename(columns={\n",
    "        \"xcit_small_12_p16_224\": \"XCiT-S12\",\n",
    "        \"xcit_medium_12_p16_224\": \"XCiT-M12\",\n",
    "        \"xcit_large_12_p16_224\": \"XCiT-L12\",\n",
    "        \"epoch\": \"Epoch\"}) \\\n",
    "    .melt(value_vars=[\"XCiT-S12\", \"XCiT-M12\", \"XCiT-L12\"], id_vars=[\"Epoch\"], value_name=\"Val robust accuracy (\\%)\", var_name=\"Model\")\n",
    "xcit_epochs_df[\"phase\"] = \"Val\"\n",
    "xcit_epochs_df.head()"
   ]
  },
  {
   "cell_type": "code",
   "execution_count": 8,
   "id": "e6c107d9-aed8-4527-9a70-db9a18fe4367",
   "metadata": {},
   "outputs": [
    {
     "data": {
      "image/png": "[encoded data removed]",
      "text/plain": [
       "<Figure size 314x196.25 with 1 Axes>"
      ]
     },
     "metadata": {},
     "output_type": "display_data"
    }
   ],
   "source": [
    "sns.lineplot(data=xcit_epochs_df, x=\"Epoch\", y=\"Val robust accuracy (\\%)\", style=\"Model\", hue=\"Model\", linewidth=2)\n",
    "plt.ylim([0, 70])\n",
    "plt.savefig(OUTPUT_IMAGES_LOCATION / \"learning-curves.pdf\", bbox_inches=\"tight\")"
   ]
  },
  {
   "cell_type": "code",
   "execution_count": 9,
   "id": "5c398e12-5b63-4580-ab92-7654d6d49544",
   "metadata": {},
   "outputs": [
    {
     "data": {
      "text/html": [
       "<div>\n",
       "<style scoped>\n",
       "    .dataframe tbody tr th:only-of-type {\n",
       "        vertical-align: middle;\n",
       "    }\n",
       "\n",
       "    .dataframe tbody tr th {\n",
       "        vertical-align: top;\n",
       "    }\n",
       "\n",
       "    .dataframe thead th {\n",
       "        text-align: right;\n",
       "    }\n",
       "</style>\n",
       "<table border=\"1\" class=\"dataframe\">\n",
       "  <thead>\n",
       "    <tr style=\"text-align: right;\">\n",
       "      <th></th>\n",
       "      <th>Epoch</th>\n",
       "      <th>Model</th>\n",
       "      <th>Train robust accuracy (\\%)</th>\n",
       "      <th>phase</th>\n",
       "    </tr>\n",
       "  </thead>\n",
       "  <tbody>\n",
       "    <tr>\n",
       "      <th>0</th>\n",
       "      <td>0</td>\n",
       "      <td>XCiT-S12</td>\n",
       "      <td>0.219649</td>\n",
       "      <td>Train</td>\n",
       "    </tr>\n",
       "    <tr>\n",
       "      <th>1</th>\n",
       "      <td>1</td>\n",
       "      <td>XCiT-S12</td>\n",
       "      <td>3.619911</td>\n",
       "      <td>Train</td>\n",
       "    </tr>\n",
       "    <tr>\n",
       "      <th>2</th>\n",
       "      <td>2</td>\n",
       "      <td>XCiT-S12</td>\n",
       "      <td>11.240921</td>\n",
       "      <td>Train</td>\n",
       "    </tr>\n",
       "    <tr>\n",
       "      <th>3</th>\n",
       "      <td>3</td>\n",
       "      <td>XCiT-S12</td>\n",
       "      <td>16.979551</td>\n",
       "      <td>Train</td>\n",
       "    </tr>\n",
       "    <tr>\n",
       "      <th>4</th>\n",
       "      <td>4</td>\n",
       "      <td>XCiT-S12</td>\n",
       "      <td>20.497906</td>\n",
       "      <td>Train</td>\n",
       "    </tr>\n",
       "  </tbody>\n",
       "</table>\n",
       "</div>"
      ],
      "text/plain": [
       "   Epoch     Model  Train robust accuracy (\\%)  phase\n",
       "0      0  XCiT-S12                    0.219649  Train\n",
       "1      1  XCiT-S12                    3.619911  Train\n",
       "2      2  XCiT-S12                   11.240921  Train\n",
       "3      3  XCiT-S12                   16.979551  Train\n",
       "4      4  XCiT-S12                   20.497906  Train"
      ]
     },
     "execution_count": 9,
     "metadata": {},
     "output_type": "execute_result"
    }
   ],
   "source": [
    "xcit_epochs_df_train = pd.read_csv(\"data/robust_acc_xcits_train.csv\")\n",
    "xcit_epochs_df_train = xcit_epochs_df_train[[\"epoch\", \"xcit_small_12_p16_224\", \"xcit_medium_12_p16_224\", \"xcit_large_12_p16_224\"]]\n",
    "xcit_epochs_df_train = xcit_epochs_df_train \\\n",
    "    .rename(columns={\n",
    "        \"xcit_small_12_p16_224\": \"XCiT-S12\",\n",
    "        \"xcit_medium_12_p16_224\": \"XCiT-M12\",\n",
    "        \"xcit_large_12_p16_224\": \"XCiT-L12\",\n",
    "        \"epoch\": \"Epoch\"}) \\\n",
    "    .melt(value_vars=[\"XCiT-S12\", \"XCiT-M12\", \"XCiT-L12\"], id_vars=[\"Epoch\"], value_name=\"Train robust accuracy (\\%)\", var_name=\"Model\")\n",
    "xcit_epochs_df_train[\"phase\"] = \"Train\"\n",
    "xcit_epochs_df_train.head()"
   ]
  },
  {
   "cell_type": "code",
   "execution_count": 10,
   "id": "8415ed14-8306-4735-b384-71bc20e096b4",
   "metadata": {},
   "outputs": [
    {
     "data": {
      "image/png": "[encoded data removed]",
      "text/plain": [
       "<Figure size 314x196.25 with 1 Axes>"
      ]
     },
     "metadata": {},
     "output_type": "display_data"
    }
   ],
   "source": [
    "sns.lineplot(data=xcit_epochs_df_train, x=\"Epoch\", y=\"Train robust accuracy (\\%)\", style=\"Model\", hue=\"Model\", linewidth=2)\n",
    "plt.ylim([0, 70])\n",
    "plt.savefig(OUTPUT_IMAGES_LOCATION / \"learning-curves-train.pdf\", bbox_inches=\"tight\")"
   ]
  },
  {
   "cell_type": "code",
   "execution_count": null,
   "id": "c7edc34b-b4e2-4c3a-99e0-7729e2d53781",
   "metadata": {},
   "outputs": [],
   "source": []
  }
 ],
 "metadata": {
  "kernelspec": {
   "display_name": "Python 3 (ipykernel)",
   "language": "python",
   "name": "python3"
  },
  "language_info": {
   "codemirror_mode": {
    "name": "ipython",
    "version": 3
   },
   "file_extension": ".py",
   "mimetype": "text/x-python",
   "name": "python",
   "nbconvert_exporter": "python",
   "pygments_lexer": "ipython3",
   "version": "3.10.6"
  }
 },
 "nbformat": 4,
 "nbformat_minor": 5
}
